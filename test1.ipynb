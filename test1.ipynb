{
 "cells": [
  {
   "cell_type": "code",
   "execution_count": 1,
   "metadata": {},
   "outputs": [
    {
     "name": "stdout",
     "output_type": "stream",
     "text": [
      "[[3 3 3 1]\n",
      " [4 0 1 4]\n",
      " [4 4 0 0]]\n"
     ]
    },
    {
     "ename": "TypeError",
     "evalue": "_solve_dispatcher() missing 1 required positional argument: 'b'",
     "output_type": "error",
     "traceback": [
      "\u001b[1;31m---------------------------------------------------------------------------\u001b[0m",
      "\u001b[1;31mTypeError\u001b[0m                                 Traceback (most recent call last)",
      "Cell \u001b[1;32mIn[1], line 7\u001b[0m\n\u001b[0;32m      5\u001b[0m arr1 \u001b[39m=\u001b[39m np\u001b[39m.\u001b[39mrandom\u001b[39m.\u001b[39mrandint(\u001b[39m0\u001b[39m, \u001b[39m5\u001b[39m, size\u001b[39m=\u001b[39m(\u001b[39m3\u001b[39m, \u001b[39m4\u001b[39m))\n\u001b[0;32m      6\u001b[0m \u001b[39mprint\u001b[39m(arr1)\n\u001b[1;32m----> 7\u001b[0m np\u001b[39m.\u001b[39;49mlinalg\u001b[39m.\u001b[39;49msolve(arr1)\n",
      "File \u001b[1;32m<__array_function__ internals>:179\u001b[0m, in \u001b[0;36msolve\u001b[1;34m(*args, **kwargs)\u001b[0m\n",
      "\u001b[1;31mTypeError\u001b[0m: _solve_dispatcher() missing 1 required positional argument: 'b'"
     ]
    }
   ],
   "source": [
    "import numpy as np\n",
    "import sympy\n",
    "\n",
    "\n",
    "arr1 = np.random.randint(0, 5, size=(3, 4))\n",
    "print(arr1)\n",
    "np.linalg.solve(arr1)"
   ]
  },
  {
   "cell_type": "code",
   "execution_count": 3,
   "metadata": {},
   "outputs": [
    {
     "name": "stdout",
     "output_type": "stream",
     "text": [
      "(Matrix([\n",
      "[1, -2, 0, 0, 3],\n",
      "[0,  0, 1, 0, 2],\n",
      "[0,  0, 0, 1, 1],\n",
      "[0,  0, 0, 0, 0]]), (0, 2, 3))\n"
     ]
    }
   ],
   "source": [
    "M = sympy.Matrix(\n",
    "    [[1, -2, 3, 5, 14], [-2, 4, -5, -10, -26], [2, -4, 6, 11, 29], [-1, 2, -2, -5, -12]]\n",
    ")\n",
    "\n",
    "print(M.rref())\n"
   ]
  },
  {
   "cell_type": "code",
   "execution_count": 5,
   "metadata": {},
   "outputs": [
    {
     "name": "stdout",
     "output_type": "stream",
     "text": [
      "Matrix([[1, -1, 2, 4], [2, 1, -1, 1], [3, 3, -4, -2]])\n",
      "(Matrix([\n",
      "[1, 0,  1/3,  5/3],\n",
      "[0, 1, -5/3, -7/3],\n",
      "[0, 0,    0,    0]]), (0, 1))\n"
     ]
    }
   ],
   "source": [
    "M1 = sympy.Matrix([[1, -1, 2, 4], [2, 1, -1, 1], [3, 3, -4, -2]])\n",
    "print(M1)\n",
    "print(M1.rref())"
   ]
  },
  {
   "cell_type": "code",
   "execution_count": null,
   "metadata": {},
   "outputs": [],
   "source": []
  }
 ],
 "metadata": {
  "kernelspec": {
   "display_name": "Python 3.9.13 ('Linear_Algebra-hXmbLnKN')",
   "language": "python",
   "name": "python3"
  },
  "language_info": {
   "codemirror_mode": {
    "name": "ipython",
    "version": 3
   },
   "file_extension": ".py",
   "mimetype": "text/x-python",
   "name": "python",
   "nbconvert_exporter": "python",
   "pygments_lexer": "ipython3",
   "version": "3.9.13"
  },
  "orig_nbformat": 4,
  "vscode": {
   "interpreter": {
    "hash": "1af0778bd5471709bf3d92e8f2f158c92932621c6afd88b3dfc350589e47f9c3"
   }
  }
 },
 "nbformat": 4,
 "nbformat_minor": 2
}
